{
 "cells": [
  {
   "cell_type": "markdown",
   "metadata": {},
   "source": [
    "# Why education is imporant for world health"
   ]
  },
  {
   "cell_type": "markdown",
   "metadata": {},
   "source": [
    "## About Dataset"
   ]
  },
  {
   "cell_type": "markdown",
   "metadata": {},
   "source": [
    "Dataset used for analysis in the following notebook was taken from https://www.kaggle.com/kumarajarshi/life-expectancy-who. This dataset contains country and year wise health statistics such as Life expectancy, alcohol consumption, infant deaths, GDP. Although most of data is correct there is presence of incorrect observations like population of china is observed significantly lower than actual population.\n",
    "\n",
    "For our analysis we will consider this data as source of truth as majority of it is correct. This shouldn't affect overall trends in the data a lot.\n",
    "\n"
   ]
  },
  {
   "cell_type": "markdown",
   "metadata": {},
   "source": [
    "## Overall world health"
   ]
  },
  {
   "cell_type": "markdown",
   "metadata": {},
   "source": [
    "We might wonder if health of people in world improving over time. It is possible that there is significant breakthrough in healthcare recently but same not be accessible to general public. In that case inclusive health of citizens will decline, whereas quality medical facilities will be available only to selected few. Lucky for us we have access to WHO data to see if it is so.\n",
    "\n",
    "Run the notebook below to see aggregated healthcare data over tens of parameter."
   ]
  },
  {
   "cell_type": "code",
   "execution_count": 1,
   "metadata": {},
   "outputs": [
    {
     "name": "stdout",
     "output_type": "stream",
     "text": [
      "WORLD AGGREGATED DATA\n"
     ]
    },
    {
     "data": {
      "application/vnd.jupyter.widget-view+json": {
       "model_id": "2101758254a541dea68ccb0bff346cd7",
       "version_major": 2,
       "version_minor": 0
      },
      "text/plain": [
       "aW50ZXJhY3RpdmUoY2hpbGRyZW49KERyb3Bkb3duKGRlc2NyaXB0aW9uPXUnY29sdW1uXzInLCBpbmRleD0xLCBvcHRpb25zPSgnWWVhcicsICdMaWZlIGV4cGVjdGFuY3kgJywgJ0FkdWx0IE3igKY=\n"
      ]
     },
     "metadata": {},
     "output_type": "display_data"
    },
    {
     "data": {
      "application/vnd.jupyter.widget-view+json": {
       "model_id": "878cdddc8a7f4c5092232f2def16dc45",
       "version_major": 2,
       "version_minor": 0
      },
      "text/plain": [
       "aW50ZXJhY3RpdmUoY2hpbGRyZW49KEJ1dHRvbihkZXNjcmlwdGlvbj11J1J1biBJbnRlcmFjdCcsIHN0eWxlPUJ1dHRvblN0eWxlKCkpLCBPdXRwdXQoKSksIF9kb21fY2xhc3Nlcz0odSd3aWTigKY=\n"
      ]
     },
     "metadata": {},
     "output_type": "display_data"
    },
    {
     "name": "stdout",
     "output_type": "stream",
     "text": [
      "<function draw_pair_aggregate at 0x1181448c0>\n"
     ]
    }
   ],
   "source": [
    "from feature_compare import select_aggregate_pair_1, select_aggregate_pair_2, drawable_cols, draw_pair_aggregate\n",
    "from ipywidgets import interact, interactive, fixed, interact_manual, SelectMultiple\n",
    "\n",
    "print \"WORLD AGGREGATED DATA\"\n",
    "\n",
    "interact(select_aggregate_pair_2, column_2=drawable_cols);\n",
    "interact_manual(draw_pair_aggregate)"
   ]
  },
  {
   "cell_type": "markdown",
   "metadata": {},
   "source": [
    "## Country wise health"
   ]
  },
  {
   "cell_type": "markdown",
   "metadata": {},
   "source": [
    "Turns out almost all the diseases are heading downwards and all the positive health parameters such life expectancy are on rise. We see that total expenditure on healthcare is increasing. One might wonder what is the reason of overall increase in health? Is it because of increase in GDP or total spend on healthcare or something else? We will soon find out. \n",
    "\n",
    "Lets now dive deep to know how each of the country performing against each of above parameters.\n",
    "\n",
    "Run the cell below to view country-wise health data.\n",
    "\n",
    "Note: To select multiple countries & compare hold shift/ctrl when selecting"
   ]
  },
  {
   "cell_type": "code",
   "execution_count": 2,
   "metadata": {},
   "outputs": [
    {
     "name": "stdout",
     "output_type": "stream",
     "text": [
      "COUNTRY-WISE DATA\n"
     ]
    },
    {
     "data": {
      "application/vnd.jupyter.widget-view+json": {
       "model_id": "2c49fe761a4c40ac9f1355048fc71515",
       "version_major": 2,
       "version_minor": 0
      },
      "text/plain": [
       "U2VsZWN0TXVsdGlwbGUoZGVzY3JpcHRpb249dSdDb3VudHJ5JywgaW5kZXg9KDc2LCksIG9wdGlvbnM9KCdBZmdoYW5pc3RhbicsICdBbGJhbmlhJywgJ0FsZ2VyaWEnLCAnQW5nb2xhJywgJ0HigKY=\n"
      ]
     },
     "metadata": {},
     "output_type": "display_data"
    },
    {
     "data": {
      "application/vnd.jupyter.widget-view+json": {
       "model_id": "0fdc55e755f54caa9340ac23bab7be84",
       "version_major": 2,
       "version_minor": 0
      },
      "text/plain": [
       "aW50ZXJhY3RpdmUoY2hpbGRyZW49KERyb3Bkb3duKGRlc2NyaXB0aW9uPXUnY29sdW1uXzInLCBpbmRleD0xLCBvcHRpb25zPSgnWWVhcicsICdMaWZlIGV4cGVjdGFuY3kgJywgJ0FkdWx0IE3igKY=\n"
      ]
     },
     "metadata": {},
     "output_type": "display_data"
    },
    {
     "data": {
      "application/vnd.jupyter.widget-view+json": {
       "model_id": "ca119f0ee2d84c4c9ca757edfb775b92",
       "version_major": 2,
       "version_minor": 0
      },
      "text/plain": [
       "aW50ZXJhY3RpdmUoY2hpbGRyZW49KEJ1dHRvbihkZXNjcmlwdGlvbj11J1J1biBJbnRlcmFjdCcsIHN0eWxlPUJ1dHRvblN0eWxlKCkpLCBPdXRwdXQoKSksIF9kb21fY2xhc3Nlcz0odSd3aWTigKY=\n"
      ]
     },
     "metadata": {},
     "output_type": "display_data"
    },
    {
     "name": "stdout",
     "output_type": "stream",
     "text": [
      "<function draw_pairs at 0x118878848>\n"
     ]
    }
   ],
   "source": [
    "from country_pair_compare_util import countryWidget, select_pair_column_1, select_pair_column_2, drawable_cols, draw_pairs\n",
    "from ipywidgets import interact, interactive, fixed, interact_manual, SelectMultiple\n",
    "\n",
    "print \"COUNTRY-WISE DATA\"\n",
    "\n",
    "display(countryWidget)\n",
    "interact(select_pair_column_2, column_2=drawable_cols);\n",
    "interact_manual(draw_pairs)"
   ]
  },
  {
   "cell_type": "markdown",
   "metadata": {},
   "source": [
    "## Leader Board"
   ]
  },
  {
   "cell_type": "markdown",
   "metadata": {},
   "source": [
    "All countries are following same trends which were noticed in overall world health trends. Let's see which country is leading or trailing for each of the parameters. Let's find out if our country is leading in any of the parameters listed.\n",
    "\n",
    "Run the cell below and select the parameters you'd want to see leaderboard of for each year."
   ]
  },
  {
   "cell_type": "code",
   "execution_count": 3,
   "metadata": {},
   "outputs": [
    {
     "data": {
      "application/vnd.jupyter.widget-view+json": {
       "model_id": "cdab918d71ac45748fb7298b9a020869",
       "version_major": 2,
       "version_minor": 0
      },
      "text/plain": [
       "U2VsZWN0TXVsdGlwbGUoZGVzY3JpcHRpb249dSdNZXRyaWNzOiAnLCBpbmRleD0oMCwpLCBvcHRpb25zPSgnTGlmZSBleHBlY3RhbmN5ICcsICdBZHVsdCBNb3J0YWxpdHknLCAnaW5mYW50IGTigKY=\n"
      ]
     },
     "metadata": {},
     "output_type": "display_data"
    },
    {
     "data": {
      "application/vnd.jupyter.widget-view+json": {
       "model_id": "733a15003c74458780e4aa441d7c8a93",
       "version_major": 2,
       "version_minor": 0
      },
      "text/plain": [
       "aW50ZXJhY3RpdmUoY2hpbGRyZW49KEJ1dHRvbihkZXNjcmlwdGlvbj11J1J1biBJbnRlcmFjdCcsIHN0eWxlPUJ1dHRvblN0eWxlKCkpLCBPdXRwdXQoKSksIF9kb21fY2xhc3Nlcz0odSd3aWTigKY=\n"
      ]
     },
     "metadata": {},
     "output_type": "display_data"
    },
    {
     "data": {
      "text/plain": [
       "<function yearly_stats.show_year_wise_metrics>"
      ]
     },
     "execution_count": 3,
     "metadata": {},
     "output_type": "execute_result"
    }
   ],
   "source": [
    "from ipywidgets import interact, interactive, fixed, interact_manual, SelectMultiple\n",
    "\n",
    "from yearly_stats import metricWidget, show_year_wise_metrics\n",
    "\n",
    "display(metricWidget)\n",
    "interact_manual(show_year_wise_metrics)\n"
   ]
  },
  {
   "cell_type": "markdown",
   "metadata": {},
   "source": [
    "In terms of life expectancy we see that Japan, and some Europian countries are on top of leaderboard, while Sierra Leone is at the end most times. Maximum life expectancy for Slovenia in 2015 was observed to be around whopping 88 YEARS.\n",
    "\n",
    "Play with parameters to find out interesting stats for yourself."
   ]
  },
  {
   "cell_type": "markdown",
   "metadata": {},
   "source": [
    "## Health Parameters and their Inter-relations"
   ]
  },
  {
   "cell_type": "markdown",
   "metadata": {},
   "source": [
    "It is apparent that if expenditure on healthcare increases there will be improvement in health of citizens. However  which parameter causes maximum change in health(Life Expectancy)? We might want to know how much is a parameter affected by change in other parameters.\n",
    "\n",
    "For example we might think that consumption of alcohol will result in decrease in Life Expectancy but how much? How much does GDP affect Life expectancy?\n",
    "\n",
    "To answer that we calculate Coefficient of correlation between each pair of parameter. A coefficient of correlation has value between 1 to -1. A positive value between two parameters such GDP and BMI will indicate that on increase of GDP, BMI of average citizen will increase & vice versa. While a negative value indicates that on increase of GDP, BMI will decrease & vice versa.\n",
    "\n",
    "Closer value to 1 or -1 indicates that two parameters are affected a lot by each other. while a value closer to 0 indicates that two values are not as affected by each other.\n",
    "\n",
    "Run cell below to find out correlation among health parameters as a heat graph."
   ]
  },
  {
   "cell_type": "code",
   "execution_count": 4,
   "metadata": {},
   "outputs": [
    {
     "data": {
      "application/vnd.jupyter.widget-view+json": {
       "model_id": "17ec56ad8c6e473a996f687229d41d53",
       "version_major": 2,
       "version_minor": 0
      },
      "text/plain": [
       "U2VsZWN0TXVsdGlwbGUoZGVzY3JpcHRpb249dSdGZWF0dXJlcycsIGluZGV4PSgxLCAyKSwgb3B0aW9ucz0oJ1llYXInLCAnTGlmZSBleHBlY3RhbmN5ICcsICdBZHVsdCBNb3J0YWxpdHknLCDigKY=\n"
      ]
     },
     "metadata": {},
     "output_type": "display_data"
    },
    {
     "data": {
      "application/vnd.jupyter.widget-view+json": {
       "model_id": "d2371c01e430457c85aa26d63aab5c04",
       "version_major": 2,
       "version_minor": 0
      },
      "text/plain": [
       "aW50ZXJhY3RpdmUoY2hpbGRyZW49KEJ1dHRvbihkZXNjcmlwdGlvbj11J1J1biBJbnRlcmFjdCcsIHN0eWxlPUJ1dHRvblN0eWxlKCkpLCBPdXRwdXQoKSksIF9kb21fY2xhc3Nlcz0odSd3aWTigKY=\n"
      ]
     },
     "metadata": {},
     "output_type": "display_data"
    },
    {
     "name": "stdout",
     "output_type": "stream",
     "text": [
      "<function draw_heatmap at 0x126cdad70>\n"
     ]
    }
   ],
   "source": [
    "from correlation_heatmap import featureWidget, draw_heatmap\n",
    "from ipywidgets import interact, interactive, fixed, interact_manual\n",
    "\n",
    "display(featureWidget)\n",
    "interact_manual(draw_heatmap)"
   ]
  },
  {
   "cell_type": "markdown",
   "metadata": {},
   "source": [
    "## Max Correlated Health Parameters"
   ]
  },
  {
   "cell_type": "markdown",
   "metadata": {},
   "source": [
    "Now that we know impact of change of health parameters on each other, lets find out which parameters is responsible for maximum change in other parameter. With this we will be able to know what is life expectancy most affected by.\n",
    "\n",
    "Run code cell below to generate correlation stats."
   ]
  },
  {
   "cell_type": "code",
   "execution_count": 5,
   "metadata": {},
   "outputs": [
    {
     "data": {
      "text/html": [
       "<table border=\"1\" class=\"dataframe\">\n",
       "  <thead>\n",
       "    <tr style=\"text-align: right;\">\n",
       "      <th>Feature</th>\n",
       "      <th>Max correlation Feature</th>\n",
       "      <th>correlation value</th>\n",
       "    </tr>\n",
       "  </thead>\n",
       "  <tbody>\n",
       "    <tr>\n",
       "      <td>under-five deaths</td>\n",
       "      <td>infant deaths</td>\n",
       "      <td>0.9966288820398191</td>\n",
       "    </tr>\n",
       "    <tr>\n",
       "      <td>infant deaths</td>\n",
       "      <td>under-five deaths</td>\n",
       "      <td>0.9966288820398191</td>\n",
       "    </tr>\n",
       "    <tr>\n",
       "      <td>thinness 5-9 years</td>\n",
       "      <td>thinness  1-19 years</td>\n",
       "      <td>0.9391019921914692</td>\n",
       "    </tr>\n",
       "    <tr>\n",
       "      <td>thinness  1-19 years</td>\n",
       "      <td>thinness 5-9 years</td>\n",
       "      <td>0.9391019921914692</td>\n",
       "    </tr>\n",
       "    <tr>\n",
       "      <td>percentage expenditure</td>\n",
       "      <td>GDP</td>\n",
       "      <td>0.8993726409895392</td>\n",
       "    </tr>\n",
       "    <tr>\n",
       "      <td>GDP</td>\n",
       "      <td>percentage expenditure</td>\n",
       "      <td>0.8993726409895392</td>\n",
       "    </tr>\n",
       "    <tr>\n",
       "      <td>Schooling</td>\n",
       "      <td>Income composition of resources</td>\n",
       "      <td>0.8000924203919645</td>\n",
       "    </tr>\n",
       "    <tr>\n",
       "      <td>Income composition of resources</td>\n",
       "      <td>Schooling</td>\n",
       "      <td>0.8000924203919645</td>\n",
       "    </tr>\n",
       "    <tr>\n",
       "      <td>Life expectancy</td>\n",
       "      <td>Schooling</td>\n",
       "      <td>0.7519754627366968</td>\n",
       "    </tr>\n",
       "    <tr>\n",
       "      <td>Diphtheria</td>\n",
       "      <td>Polio</td>\n",
       "      <td>0.6735533206902242</td>\n",
       "    </tr>\n",
       "    <tr>\n",
       "      <td>Polio</td>\n",
       "      <td>Diphtheria</td>\n",
       "      <td>0.6735533206902242</td>\n",
       "    </tr>\n",
       "    <tr>\n",
       "      <td>Hepatitis B</td>\n",
       "      <td>Diphtheria</td>\n",
       "      <td>0.6114949490184355</td>\n",
       "    </tr>\n",
       "    <tr>\n",
       "      <td>BMI</td>\n",
       "      <td>Life expectancy</td>\n",
       "      <td>0.567693547545984</td>\n",
       "    </tr>\n",
       "    <tr>\n",
       "      <td>Population</td>\n",
       "      <td>infant deaths</td>\n",
       "      <td>0.5568013322696023</td>\n",
       "    </tr>\n",
       "    <tr>\n",
       "      <td>Alcohol</td>\n",
       "      <td>Schooling</td>\n",
       "      <td>0.547378379361668</td>\n",
       "    </tr>\n",
       "    <tr>\n",
       "      <td>Adult Mortality</td>\n",
       "      <td>HIV/AIDS</td>\n",
       "      <td>0.52382050790262</td>\n",
       "    </tr>\n",
       "    <tr>\n",
       "      <td>HIV/AIDS</td>\n",
       "      <td>Adult Mortality</td>\n",
       "      <td>0.52382050790262</td>\n",
       "    </tr>\n",
       "    <tr>\n",
       "      <td>Measles</td>\n",
       "      <td>under-five deaths</td>\n",
       "      <td>0.507808706858683</td>\n",
       "    </tr>\n",
       "    <tr>\n",
       "      <td>Total expenditure</td>\n",
       "      <td>Alcohol</td>\n",
       "      <td>0.2969415602007335</td>\n",
       "    </tr>\n",
       "  </tbody>\n",
       "</table>"
      ],
      "text/plain": [
       "<IPython.core.display.HTML object>"
      ]
     },
     "metadata": {},
     "output_type": "display_data"
    }
   ],
   "source": [
    "from high_correlation_feature import df\n",
    "from IPython.display import display, HTML\n",
    "\n",
    "display(HTML(df.to_html(index=False)))"
   ]
  },
  {
   "cell_type": "markdown",
   "metadata": {},
   "source": [
    "Above stats indicate that Life Expectancy is affected the most by SCHOOLING. While Schooling is affected by Income composition.\n",
    "\n",
    "This might enable us to see transitive effects of changing one parameter in the economy. For example if we increase income composition, that will cause change in schooling which in turn cause change in Life expectancy."
   ]
  },
  {
   "cell_type": "code",
   "execution_count": null,
   "metadata": {},
   "outputs": [],
   "source": []
  }
 ],
 "metadata": {
  "kernelspec": {
   "display_name": "Python 2",
   "language": "python",
   "name": "python2"
  },
  "language_info": {
   "codemirror_mode": {
    "name": "ipython",
    "version": 2
   },
   "file_extension": ".py",
   "mimetype": "text/x-python",
   "name": "python",
   "nbconvert_exporter": "python",
   "pygments_lexer": "ipython2",
   "version": "2.7.10"
  }
 },
 "nbformat": 4,
 "nbformat_minor": 2
}
