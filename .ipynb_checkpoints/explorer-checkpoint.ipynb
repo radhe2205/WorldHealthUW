{
 "cells": [
  {
   "cell_type": "markdown",
   "metadata": {},
   "source": [
    "# World Health Data & Its Determinants"
   ]
  },
  {
   "cell_type": "markdown",
   "metadata": {},
   "source": [
    "## About Dataset"
   ]
  },
  {
   "cell_type": "markdown",
   "metadata": {},
   "source": [
    "Dataset used for analysis in the following notebook was taken from https://www.kaggle.com/kumarajarshi/life-expectancy-who. This dataset contains country and year wise health statistics such as Life expectancy, alcohol consumption, infant deaths, GDP. Although most of data is correct there is presence of incorrect observations like population of china is observed significantly lower than actual population.\n",
    "\n",
    "For our analysis we will consider this data as source of truth as majority of it is correct. This shouldn't hamper overall trends in the data much.\n",
    "\n"
   ]
  },
  {
   "cell_type": "markdown",
   "metadata": {},
   "source": [
    "## Overall world health"
   ]
  },
  {
   "cell_type": "markdown",
   "metadata": {},
   "source": [
    "We might wonder if health of people in world improving over time. It is possible that there is significant breakthroughs in healthcare recently, however same is not accessible to general public. In that case inclusive health of citizens will decline, whereas quality medical facilities will be available only to selected few. Lucky for us we have access to WHO data. \n",
    "\n",
    "Run the notebook below to see healthcare data over the entire world over tens of parameter."
   ]
  },
  {
   "cell_type": "code",
   "execution_count": 10,
   "metadata": {},
   "outputs": [
    {
     "name": "stdout",
     "output_type": "stream",
     "text": [
      "WORLD AGGREGATED DATA\n"
     ]
    },
    {
     "data": {
      "application/vnd.jupyter.widget-view+json": {
       "model_id": "fa3de7019d9c435781a042308373c587",
       "version_major": 2,
       "version_minor": 0
      },
      "text/plain": [
       "aW50ZXJhY3RpdmUoY2hpbGRyZW49KERyb3Bkb3duKGRlc2NyaXB0aW9uPXUnY29sdW1uXzInLCBpbmRleD0xLCBvcHRpb25zPSgnWWVhcicsICdMaWZlIGV4cGVjdGFuY3kgJywgJ0FkdWx0IE3igKY=\n"
      ]
     },
     "metadata": {},
     "output_type": "display_data"
    },
    {
     "data": {
      "application/vnd.jupyter.widget-view+json": {
       "model_id": "00b9d3f858a440d0a5928524d5146a47",
       "version_major": 2,
       "version_minor": 0
      },
      "text/plain": [
       "aW50ZXJhY3RpdmUoY2hpbGRyZW49KEJ1dHRvbihkZXNjcmlwdGlvbj11J1J1biBJbnRlcmFjdCcsIHN0eWxlPUJ1dHRvblN0eWxlKCkpLCBPdXRwdXQoKSksIF9kb21fY2xhc3Nlcz0odSd3aWTigKY=\n"
      ]
     },
     "metadata": {},
     "output_type": "display_data"
    },
    {
     "data": {
      "text/plain": [
       "<function feature_compare.draw_pair_aggregate>"
      ]
     },
     "execution_count": 10,
     "metadata": {},
     "output_type": "execute_result"
    }
   ],
   "source": [
    "from feature_compare import select_aggregate_pair_1, select_aggregate_pair_2, drawable_cols, draw_pair_aggregate\n",
    "from ipywidgets import interact, interactive, fixed, interact_manual, SelectMultiple\n",
    "\n",
    "print \"WORLD AGGREGATED DATA\"\n",
    "\n",
    "interact(select_aggregate_pair_2, column_2=drawable_cols);\n",
    "interact_manual(draw_pair_aggregate)"
   ]
  },
  {
   "cell_type": "markdown",
   "metadata": {},
   "source": [
    "## Country wise health"
   ]
  },
  {
   "cell_type": "markdown",
   "metadata": {},
   "source": [
    "Turns out all the diseases are heading downwards and all the positive health parameters such life expectancy are on rise. We see that total expenditure is on healthcare is increasing. One might wonder what is the reason of overall increase in health? Is it because of increase in GDP or total spend on healthcare or something else? We will soon find out. \n",
    "\n",
    "Lets now dive deep to know how each of the country performing against above parameters.\n",
    "\n",
    "Run the cell below to view country-wise health data.\n",
    "\n",
    "Note: To select multiple countries & compare hold shift/ctrl when selecting"
   ]
  },
  {
   "cell_type": "code",
   "execution_count": 13,
   "metadata": {},
   "outputs": [
    {
     "name": "stdout",
     "output_type": "stream",
     "text": [
      "COUNTRY-WISE DATA\n"
     ]
    },
    {
     "data": {
      "application/vnd.jupyter.widget-view+json": {
       "model_id": "170906dca79c425d91c6d015f73ef251",
       "version_major": 2,
       "version_minor": 0
      },
      "text/plain": [
       "U2VsZWN0TXVsdGlwbGUoZGVzY3JpcHRpb249dSdDb3VudHJ5JywgaW5kZXg9KDExMSwgMTEyKSwgb3B0aW9ucz0oJ0FmZ2hhbmlzdGFuJywgJ0FsYmFuaWEnLCAnQWxnZXJpYScsICdBbmdvbGHigKY=\n"
      ]
     },
     "metadata": {},
     "output_type": "display_data"
    },
    {
     "data": {
      "application/vnd.jupyter.widget-view+json": {
       "model_id": "597c561b8c0845238b20af957a4c335c",
       "version_major": 2,
       "version_minor": 0
      },
      "text/plain": [
       "aW50ZXJhY3RpdmUoY2hpbGRyZW49KERyb3Bkb3duKGRlc2NyaXB0aW9uPXUnY29sdW1uXzInLCBpbmRleD0xLCBvcHRpb25zPSgnWWVhcicsICdMaWZlIGV4cGVjdGFuY3kgJywgJ0FkdWx0IE3igKY=\n"
      ]
     },
     "metadata": {},
     "output_type": "display_data"
    },
    {
     "data": {
      "application/vnd.jupyter.widget-view+json": {
       "model_id": "d5e2855b3d6943d68930f0056e079407",
       "version_major": 2,
       "version_minor": 0
      },
      "text/plain": [
       "aW50ZXJhY3RpdmUoY2hpbGRyZW49KEJ1dHRvbihkZXNjcmlwdGlvbj11J1J1biBJbnRlcmFjdCcsIHN0eWxlPUJ1dHRvblN0eWxlKCkpLCBPdXRwdXQoKSksIF9kb21fY2xhc3Nlcz0odSd3aWTigKY=\n"
      ]
     },
     "metadata": {},
     "output_type": "display_data"
    },
    {
     "data": {
      "text/plain": [
       "<function country_pair_compare_util.draw_pairs>"
      ]
     },
     "execution_count": 13,
     "metadata": {},
     "output_type": "execute_result"
    }
   ],
   "source": [
    "from country_pair_compare_util import countryWidget, select_pair_column_1, select_pair_column_2, drawable_cols, draw_pairs\n",
    "from ipywidgets import interact, interactive, fixed, interact_manual, SelectMultiple\n",
    "\n",
    "print \"COUNTRY-WISE DATA\"\n",
    "\n",
    "display(countryWidget)\n",
    "interact(select_pair_column_2, column_2=drawable_cols);\n",
    "interact_manual(draw_pairs)"
   ]
  },
  {
   "cell_type": "markdown",
   "metadata": {},
   "source": [
    "## Leader Board"
   ]
  },
  {
   "cell_type": "markdown",
   "metadata": {},
   "source": [
    "Looks like all countries are following same trends which were noticed in overall world health trends. Let's see which country is leading or trailing against each of above parameters. Let's find out if our country is leading in any of the parameters listed.\n",
    "\n",
    "Run the cell below and select the parameters you'd want to see leaderboard of for each year."
   ]
  },
  {
   "cell_type": "code",
   "execution_count": 19,
   "metadata": {},
   "outputs": [
    {
     "data": {
      "application/vnd.jupyter.widget-view+json": {
       "model_id": "f27328c038d4429e82e1052e5bf4e199",
       "version_major": 2,
       "version_minor": 0
      },
      "text/plain": [
       "U2VsZWN0TXVsdGlwbGUoZGVzY3JpcHRpb249dSdNZXRyaWNzOiAnLCBpbmRleD0oMCwpLCBvcHRpb25zPSgnTGlmZSBleHBlY3RhbmN5ICcsICdBZHVsdCBNb3J0YWxpdHknLCAnaW5mYW50IGTigKY=\n"
      ]
     },
     "metadata": {},
     "output_type": "display_data"
    },
    {
     "data": {
      "application/vnd.jupyter.widget-view+json": {
       "model_id": "35b42716db424c21b5925653c5274f6a",
       "version_major": 2,
       "version_minor": 0
      },
      "text/plain": [
       "aW50ZXJhY3RpdmUoY2hpbGRyZW49KEJ1dHRvbihkZXNjcmlwdGlvbj11J1J1biBJbnRlcmFjdCcsIHN0eWxlPUJ1dHRvblN0eWxlKCkpLCBPdXRwdXQoKSksIF9kb21fY2xhc3Nlcz0odSd3aWTigKY=\n"
      ]
     },
     "metadata": {},
     "output_type": "display_data"
    },
    {
     "data": {
      "text/plain": [
       "<function yearly_stats.show_year_wise_metrics>"
      ]
     },
     "execution_count": 19,
     "metadata": {},
     "output_type": "execute_result"
    }
   ],
   "source": [
    "from ipywidgets import interact, interactive, fixed, interact_manual, SelectMultiple\n",
    "\n",
    "from yearly_stats import metricWidget, show_year_wise_metrics\n",
    "\n",
    "display(metricWidget)\n",
    "interact_manual(show_year_wise_metrics)\n"
   ]
  },
  {
   "cell_type": "markdown",
   "metadata": {},
   "source": [
    "In terms of life expectancy we see that Japan, and some Europian countries are on leaderboard, while Sierra Leone is at the end most times. Maximum life expectancy for Slovenia in 2015 was observed to be around whopping 88 YEARS.\n",
    "\n",
    "Play with parameters to find out interesting stats for yourself."
   ]
  },
  {
   "cell_type": "markdown",
   "metadata": {},
   "source": [
    "## Health Parameters and their Inter-relations"
   ]
  },
  {
   "cell_type": "markdown",
   "metadata": {},
   "source": [
    "It is apparent that if expenditure on healthcare increases there will be improvement in health of citizens. However we might wonder which parameter causes maximum change in health(Life Expectancy). We might wonder how much is a parameter affected by rise or fall of some other parameter.\n",
    "\n",
    "For example we might think that consumption of alcohol will result in decrease in Life Expectancy but how much? How much does GDP affect Life expectancy?\n",
    "\n",
    "To answer that we calculate Coefficient of correlation between each pair of parameter. A coefficient of correlation has value between 1 to -1. A positive value between two parameters such GDP and BMI will indicate that on increase of GDP, BMI of average citizen will increase (i.e. they will more likely be obese). While a negative value indicates that on increase of GDP, BMI will decrease.\n",
    "\n",
    "Closer value to 1 or -1 indicates that two parameters are affected by each other a lot. while a value closer to 0 indicates that two values are not affected by each other.\n",
    "\n",
    "Run cell below to find out correlation among health parameters as a heat graph."
   ]
  },
  {
   "cell_type": "code",
   "execution_count": 20,
   "metadata": {},
   "outputs": [
    {
     "data": {
      "application/vnd.jupyter.widget-view+json": {
       "model_id": "37dcb40a7c1c4ca08cd6a4baaf2adac3",
       "version_major": 2,
       "version_minor": 0
      },
      "text/plain": [
       "U2VsZWN0TXVsdGlwbGUoZGVzY3JpcHRpb249dSdGZWF0dXJlcycsIGluZGV4PSgxLCAyLCAzLCAxOSksIG9wdGlvbnM9KCdZZWFyJywgJ0xpZmUgZXhwZWN0YW5jeSAnLCAnQWR1bHQgTW9ydGHigKY=\n"
      ]
     },
     "metadata": {},
     "output_type": "display_data"
    },
    {
     "data": {
      "application/vnd.jupyter.widget-view+json": {
       "model_id": "0206031773fe42339b750de30f2309b2",
       "version_major": 2,
       "version_minor": 0
      },
      "text/plain": [
       "aW50ZXJhY3RpdmUoY2hpbGRyZW49KEJ1dHRvbihkZXNjcmlwdGlvbj11J1J1biBJbnRlcmFjdCcsIHN0eWxlPUJ1dHRvblN0eWxlKCkpLCBPdXRwdXQoKSksIF9kb21fY2xhc3Nlcz0odSd3aWTigKY=\n"
      ]
     },
     "metadata": {},
     "output_type": "display_data"
    },
    {
     "data": {
      "text/plain": [
       "<function correlation_heatmap.draw_heatmap>"
      ]
     },
     "execution_count": 20,
     "metadata": {},
     "output_type": "execute_result"
    }
   ],
   "source": [
    "from correlation_heatmap import featureWidget, draw_heatmap\n",
    "from ipywidgets import interact, interactive, fixed, interact_manual\n",
    "\n",
    "display(featureWidget)\n",
    "interact_manual(draw_heatmap)"
   ]
  },
  {
   "cell_type": "markdown",
   "metadata": {},
   "source": [
    "## High Correlated Health Parameters"
   ]
  },
  {
   "cell_type": "markdown",
   "metadata": {},
   "source": [
    "Now that we have impact of change of health parameters on each other, lets find out which parameters is responsible for maximum change in other parameter.\n",
    "\n",
    "Run code cell below to generate correlation stats."
   ]
  },
  {
   "cell_type": "code",
   "execution_count": 22,
   "metadata": {},
   "outputs": [
    {
     "data": {
      "text/html": [
       "<table border=\"1\" class=\"dataframe\">\n",
       "  <thead>\n",
       "    <tr style=\"text-align: right;\">\n",
       "      <th>Feature</th>\n",
       "      <th>High correlation Feature</th>\n",
       "      <th>correlation value</th>\n",
       "    </tr>\n",
       "  </thead>\n",
       "  <tbody>\n",
       "    <tr>\n",
       "      <td>infant deaths</td>\n",
       "      <td>under-five deaths</td>\n",
       "      <td>0.9966288820398191</td>\n",
       "    </tr>\n",
       "    <tr>\n",
       "      <td>under-five deaths</td>\n",
       "      <td>infant deaths</td>\n",
       "      <td>0.9966288820398191</td>\n",
       "    </tr>\n",
       "    <tr>\n",
       "      <td>thinness 5-9 years</td>\n",
       "      <td>thinness  1-19 years</td>\n",
       "      <td>0.9391019921914692</td>\n",
       "    </tr>\n",
       "    <tr>\n",
       "      <td>thinness  1-19 years</td>\n",
       "      <td>thinness 5-9 years</td>\n",
       "      <td>0.9391019921914692</td>\n",
       "    </tr>\n",
       "    <tr>\n",
       "      <td>percentage expenditure</td>\n",
       "      <td>GDP</td>\n",
       "      <td>0.8993726409895392</td>\n",
       "    </tr>\n",
       "    <tr>\n",
       "      <td>GDP</td>\n",
       "      <td>percentage expenditure</td>\n",
       "      <td>0.8993726409895392</td>\n",
       "    </tr>\n",
       "    <tr>\n",
       "      <td>Schooling</td>\n",
       "      <td>Income composition of resources</td>\n",
       "      <td>0.8000924203919645</td>\n",
       "    </tr>\n",
       "    <tr>\n",
       "      <td>Income composition of resources</td>\n",
       "      <td>Schooling</td>\n",
       "      <td>0.8000924203919645</td>\n",
       "    </tr>\n",
       "    <tr>\n",
       "      <td>Life expectancy</td>\n",
       "      <td>Schooling</td>\n",
       "      <td>0.7519754627366968</td>\n",
       "    </tr>\n",
       "    <tr>\n",
       "      <td>Diphtheria</td>\n",
       "      <td>Polio</td>\n",
       "      <td>0.6735533206902242</td>\n",
       "    </tr>\n",
       "    <tr>\n",
       "      <td>Polio</td>\n",
       "      <td>Diphtheria</td>\n",
       "      <td>0.6735533206902242</td>\n",
       "    </tr>\n",
       "    <tr>\n",
       "      <td>Hepatitis B</td>\n",
       "      <td>Diphtheria</td>\n",
       "      <td>0.6114949490184355</td>\n",
       "    </tr>\n",
       "    <tr>\n",
       "      <td>BMI</td>\n",
       "      <td>Life expectancy</td>\n",
       "      <td>0.567693547545984</td>\n",
       "    </tr>\n",
       "    <tr>\n",
       "      <td>Population</td>\n",
       "      <td>infant deaths</td>\n",
       "      <td>0.5568013322696023</td>\n",
       "    </tr>\n",
       "    <tr>\n",
       "      <td>Alcohol</td>\n",
       "      <td>Schooling</td>\n",
       "      <td>0.547378379361668</td>\n",
       "    </tr>\n",
       "    <tr>\n",
       "      <td>HIV/AIDS</td>\n",
       "      <td>Adult Mortality</td>\n",
       "      <td>0.52382050790262</td>\n",
       "    </tr>\n",
       "    <tr>\n",
       "      <td>Adult Mortality</td>\n",
       "      <td>HIV/AIDS</td>\n",
       "      <td>0.52382050790262</td>\n",
       "    </tr>\n",
       "    <tr>\n",
       "      <td>Measles</td>\n",
       "      <td>under-five deaths</td>\n",
       "      <td>0.507808706858683</td>\n",
       "    </tr>\n",
       "    <tr>\n",
       "      <td>Total expenditure</td>\n",
       "      <td>Alcohol</td>\n",
       "      <td>0.2969415602007335</td>\n",
       "    </tr>\n",
       "    <tr>\n",
       "      <td>Year</td>\n",
       "      <td>Income composition of resources</td>\n",
       "      <td>0.24346826571865127</td>\n",
       "    </tr>\n",
       "  </tbody>\n",
       "</table>"
      ],
      "text/plain": [
       "<IPython.core.display.HTML object>"
      ]
     },
     "metadata": {},
     "output_type": "display_data"
    }
   ],
   "source": [
    "from high_correlation_feature import df\n",
    "from IPython.display import display, HTML\n",
    "\n",
    "display(HTML(df.to_html(index=False)))"
   ]
  },
  {
   "cell_type": "markdown",
   "metadata": {},
   "source": [
    "Above stats indicate that Life Expectancy is affected the most by SCHOOLING. While Schooling is affected by Income composition.\n",
    "\n",
    "This might enable us to see transitive effects of changing one parameter in the economy. For example if we increase income composition, that will cause change in schooling which in turn cause change in Life expectancy."
   ]
  },
  {
   "cell_type": "code",
   "execution_count": null,
   "metadata": {},
   "outputs": [],
   "source": []
  }
 ],
 "metadata": {
  "kernelspec": {
   "display_name": "Python 2",
   "language": "python",
   "name": "python2"
  },
  "language_info": {
   "codemirror_mode": {
    "name": "ipython",
    "version": 2
   },
   "file_extension": ".py",
   "mimetype": "text/x-python",
   "name": "python",
   "nbconvert_exporter": "python",
   "pygments_lexer": "ipython2",
   "version": "2.7.10"
  }
 },
 "nbformat": 4,
 "nbformat_minor": 2
}
